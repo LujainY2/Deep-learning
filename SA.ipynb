{
 "cells": [
  {
   "cell_type": "code",
   "execution_count": 10,
   "id": "c3271ffe",
   "metadata": {},
   "outputs": [],
   "source": [
    "from textblob import TextBlob\n",
    "import pandas as pd\n",
    "import streamlit as st\n",
    "import cleantext\n",
    "\n",
    "st.header('Sentiment Analysis')\n",
    "\n",
    "with st.expander('Analyze Text'):\n",
    "    text = st.text_input('Text here: ')\n",
    "    if text:\n",
    "        blob = TextBlob(text)\n",
    "        st.write('Polarity: ', round(blob.sentiment.polarity, 2))\n",
    "        st.write('Subjectivity: ', round(blob.sentiment.subjectivity, 2))\n",
    "\n",
    "    pre = st.text_input('Clean Text: ')\n",
    "    if pre:\n",
    "        st.write(cleantext.clean(pre, clean_all=False, extra_space=True,\n",
    "                                 stopwords=True, lowercase=True, numbers=True, punct=True))\n",
    "\n",
    "with st.expander('Analyze CSV'):\n",
    "    upl = st.file_uploader('Upload file')\n",
    "\n",
    "    def score(X):\n",
    "        blob1 = TextBlob(X)\n",
    "        return blob1.sentiment.polarity\n",
    "\n",
    "    def analyze(X):\n",
    "        if X >= 0.5:\n",
    "            return 'Positive'\n",
    "        elif X <= -0.5:\n",
    "            return 'Negative'\n",
    "        else:\n",
    "            return 'Neutral'\n",
    "\n",
    "    if upl:\n",
    "        df = pd.read_csv(upl)\n",
    "        df['Score'] = df['tweets'].apply(score)\n",
    "        df['analysis'] = df['Score'].apply(analyze)  # Corrected from df['score'] to df['Score']\n",
    "        st.write(df.head())\n",
    "\n",
    "        @st.cache\n",
    "        def convert_df(df):\n",
    "            return df.to_csv().encode('utf-8')\n",
    "\n",
    "        csv = convert_df(df)\n",
    "\n",
    "        st.download_button(\n",
    "            label='Download data as CSV',\n",
    "            data=csv,\n",
    "            file_name='sentiment.csv',\n",
    "            mime='text/csv',\n",
    "        )\n"
   ]
  }
 ],
 "metadata": {
  "kernelspec": {
   "display_name": "Python 3 (ipykernel)",
   "language": "python",
   "name": "python3"
  },
  "language_info": {
   "codemirror_mode": {
    "name": "ipython",
    "version": 3
   },
   "file_extension": ".py",
   "mimetype": "text/x-python",
   "name": "python",
   "nbconvert_exporter": "python",
   "pygments_lexer": "ipython3",
   "version": "3.11.5"
  }
 },
 "nbformat": 4,
 "nbformat_minor": 5
}
